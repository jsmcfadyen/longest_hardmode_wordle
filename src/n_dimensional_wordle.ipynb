{
 "cells": [
  {
   "cell_type": "code",
   "execution_count": 174,
   "id": "09253caa",
   "metadata": {},
   "outputs": [],
   "source": [
    "def wordle_score(guess,answer):\n",
    "    # find incorrect letters\n",
    "    wrong_g = []\n",
    "    wrong_a = []\n",
    "    for index, letter in enumerate(guess):\n",
    "        if answer[index] != letter:\n",
    "            wrong_g.append([index,letter])\n",
    "            wrong_a.append([index,answer[index]])\n",
    "            \n",
    "    yellow_idx = []\n",
    "    for index, elem in enumerate(wrong_g):\n",
    "        # if elem has a corresponding letter in wrong_a, it's a mismatch. \n",
    "        # We should delete the wrong_a element so we don't count it in the future\n",
    "        for a_i, ans in enumerate(wrong_a):\n",
    "            if elem[1] == ans[1]:\n",
    "                yellow_idx.append(wrong_g[index][0])\n",
    "                wrong_a.pop(a_i)\n",
    "    \n",
    "    score = \"\"\n",
    "    for index, letter in enumerate(guess):\n",
    "        if answer[index] == letter:\n",
    "            score += \"🟩\"\n",
    "        elif index in yellow_idx:\n",
    "            score += \"🟨\"\n",
    "        else:\n",
    "            score += \"⬜\"\n",
    "    return score\n",
    "\n",
    "def score_to_val(score):\n",
    "    val = 0\n",
    "    for i, e in enumerate(score):\n",
    "        if e == \"🟩\":\n",
    "            val += 3**i\n",
    "        if e == \"🟨\":\n",
    "            val += 2**i\n",
    "    return val\n",
    "            "
   ]
  },
  {
   "cell_type": "code",
   "execution_count": 201,
   "id": "14754112",
   "metadata": {},
   "outputs": [
    {
     "name": "stdout",
     "output_type": "stream",
     "text": [
      "🟩⬜🟩\n",
      "🟨🟩🟨\n",
      "🟩⬜🟩🟨🟩\n",
      "⬜⬜🟩🟩🟨🟨⬜⬜\n"
     ]
    }
   ],
   "source": [
    "print(wordle_score(\"AAA\",\"ABA\"))\n",
    "print(wordle_score(\"ABC\",\"CBA\"))\n",
    "print(wordle_score(\"AXPPE\",\"APPLE\"))\n",
    "print(wordle_score(\"AAAABBBB\",\"BBAACCCC\"))"
   ]
  },
  {
   "cell_type": "code",
   "execution_count": 204,
   "id": "d4a66d78",
   "metadata": {},
   "outputs": [],
   "source": [
    "import itertools\n",
    "import pandas as pd\n",
    "def generate_all_numwords(base,length):\n",
    "    my_list = []\n",
    "    for item in itertools.product(range(base),repeat=length):\n",
    "        my_list.append(item)\n",
    "        \n",
    "    return my_list\n",
    "\n",
    "def generate_matrix(base,length):\n",
    "    my_list = generate_all_numwords(base,length)\n",
    "    print(\"Generated all permutations...\")\n",
    "    print(\"Length: \" + str(len(my_list)))\n",
    "    answer = []\n",
    "    for indx, e1 in enumerate(list(my_list)):\n",
    "        s = []\n",
    "        for e2 in list(my_list):\n",
    "            s.append(score_to_val(wordle_score(e1,e2)))\n",
    "        answer.append(list(s))\n",
    "    return pd.DataFrame(answer,columns=my_list,index=my_list)"
   ]
  },
  {
   "cell_type": "code",
   "execution_count": 258,
   "id": "d3afa031",
   "metadata": {},
   "outputs": [
    {
     "name": "stdout",
     "output_type": "stream",
     "text": [
      "Generated all permutations...\n",
      "Length: 9\n"
     ]
    },
    {
     "data": {
      "image/png": "[encoded data removed]",
      "text/plain": [
       "<Figure size 640x480 with 1 Axes>"
      ]
     },
     "metadata": {},
     "output_type": "display_data"
    }
   ],
   "source": [
    "import matplotlib.pyplot as plt\n",
    "\n",
    "im1 = plt.imshow(generate_matrix(3,2),norm='linear')"
   ]
  },
  {
   "cell_type": "code",
   "execution_count": null,
   "id": "8d17aed2",
   "metadata": {},
   "outputs": [],
   "source": [
    "generate_matrix(3,2)"
   ]
  }
 ],
 "metadata": {
  "kernelspec": {
   "display_name": "Python 3 (ipykernel)",
   "language": "python",
   "name": "python3"
  },
  "language_info": {
   "codemirror_mode": {
    "name": "ipython",
    "version": 3
   },
   "file_extension": ".py",
   "mimetype": "text/x-python",
   "name": "python",
   "nbconvert_exporter": "python",
   "pygments_lexer": "ipython3",
   "version": "3.11.1"
  }
 },
 "nbformat": 4,
 "nbformat_minor": 5
}
